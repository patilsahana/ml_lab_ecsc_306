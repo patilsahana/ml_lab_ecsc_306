{
 "cells": [
  {
   "cell_type": "code",
   "execution_count": 1,
   "metadata": {
    "collapsed": true
   },
   "outputs": [],
   "source": [
    "import tensorflow as tf\n",
    "import numpy as np\n",
    "rng = np.random\n",
    "\n",
    "import matplotlib.pyplot as plt\n",
    "learning_rate = 0.0001\n",
    "training_epochs = 1000\n",
    "display_step = 50\n"
   ]
  },
  {
   "cell_type": "code",
   "execution_count": 2,
   "metadata": {},
   "outputs": [
    {
     "name": "stdout",
     "output_type": "stream",
     "text": [
      "-0.2949\n"
     ]
    }
   ],
   "source": [
    "with tf.name_scope(\"Creation_of_array\"):\n",
    "    x_array=np.asarray([2.0,9.4,3.32,0.88,-2.23,1.11,0.57,-2.25,-3.31,6.45])\n",
    "    y_array=np.asarray([1.22,0.34,-0.08,2.25,4.41,3.09,-6.66,-9.77,0.001,2.25])\n",
    "    x = tf.constant(x_array,dtype = tf.float32,name = \"x_array\")\n",
    "    y = tf.constant(y_array,dtype = tf.float32, name= \"y_array\")\n",
    "with tf.name_scope(\"Calculating_y_mean\"):\n",
    "    mean_y = tf.reduce_mean(y, name = \"mean_y\")\n",
    "    with tf.Session() as sess:\n",
    "        result_y = sess.run(mean_y)\n",
    "        print(result_y)\n"
   ]
  },
  {
   "cell_type": "code",
   "execution_count": 3,
   "metadata": {},
   "outputs": [
    {
     "name": "stdout",
     "output_type": "stream",
     "text": [
      "1.594\n",
      "14.2899\n"
     ]
    }
   ],
   "source": [
    "with tf.name_scope(\"Calculating_x_mean_and_x_variance\"):\n",
    "    mean_x, variance = tf.nn.moments(x, [0], name = \"mean_x_and_variance_x\")\n",
    "    with tf.Session() as sess:\n",
    "        m, v = sess.run([mean_x, variance])\n",
    "        print(m)\n",
    "        print(v)"
   ]
  },
  {
   "cell_type": "code",
   "execution_count": 4,
   "metadata": {},
   "outputs": [
    {
     "name": "stdout",
     "output_type": "stream",
     "text": [
      "3.83422\n"
     ]
    }
   ],
   "source": [
    "with tf.name_scope(\"Calculating_covariance\"):\n",
    "    def tensorflow_covariance(x_array,y_array,x_mean,y_mean):\n",
    "        cov = 0.0\n",
    "        for i in range(0,10):\n",
    "            x_val = tf.subtract(x_array[i],x_mean, name=\"Finding_difference_of_xval_and_mean\")\n",
    "            y_val = tf.subtract(y_array[i],y_mean, name=\"Finding_difference_of_yval_and_mean\")\n",
    "            total_val = tf.multiply(x_val,y_val, name=\"Multiplying_found_values\")\n",
    "            cov = tf.add(cov,total_val, name=\"Recursive_addition\")\n",
    "        return cov/10.0\n",
    "    with tf.Session() as sess:\n",
    "        covar = sess.run(tensorflow_covariance(x,y,m,result_y))\n",
    "        print(covar)\n"
   ]
  },
  {
   "cell_type": "code",
   "execution_count": 5,
   "metadata": {},
   "outputs": [
    {
     "name": "stdout",
     "output_type": "stream",
     "text": [
      "0.268316\n",
      "-0.722596\n"
     ]
    }
   ],
   "source": [
    "with tf.name_scope(\"Calculating_slope_m_and_c\"):\n",
    "    slope = tf.div(covar,v,name=\"Finding_slope\")\n",
    "    intm = tf.multiply(slope,m,name = \"Intermediate_step\")\n",
    "    c_intm = tf.subtract(result_y,intm,name = \"Finding_c\")\n",
    "\n",
    "    with tf.Session() as sess:\n",
    "        m_slope = sess.run(slope)\n",
    "        c = sess.run(c_intm)\n",
    "        print(m_slope)\n",
    "        print(c)"
   ]
  },
  {
   "cell_type": "code",
   "execution_count": 6,
   "metadata": {},
   "outputs": [
    {
     "name": "stdout",
     "output_type": "stream",
     "text": [
      "Epoch: 0050 cost= 11.736242294 W= 0.93951 b= -1.4817\n",
      "Epoch: 0100 cost= 11.267663956 W= 0.891134 b= -1.48306\n",
      "Epoch: 0150 cost= 10.871965408 W= 0.846672 b= -1.48404\n",
      "Epoch: 0200 cost= 10.537757874 W= 0.805805 b= -1.48467\n",
      "Epoch: 0250 cost= 10.255441666 W= 0.768242 b= -1.485\n",
      "Epoch: 0300 cost= 10.016901016 W= 0.733713 b= -1.48503\n",
      "Epoch: 0350 cost= 9.815305710 W= 0.701971 b= -1.4848\n",
      "Epoch: 0400 cost= 9.644878387 W= 0.672788 b= -1.48433\n",
      "Epoch: 0450 cost= 9.500750542 W= 0.645957 b= -1.48364\n",
      "Epoch: 0500 cost= 9.378815651 W= 0.621286 b= -1.48275\n",
      "Epoch: 0550 cost= 9.275609970 W= 0.5986 b= -1.48167\n",
      "Epoch: 0600 cost= 9.188205719 W= 0.577735 b= -1.48043\n",
      "Epoch: 0650 cost= 9.114137650 W= 0.558546 b= -1.47904\n",
      "Epoch: 0700 cost= 9.051325798 W= 0.540894 b= -1.4775\n",
      "Epoch: 0750 cost= 8.998009682 W= 0.524654 b= -1.47584\n",
      "Epoch: 0800 cost= 8.952714920 W= 0.509714 b= -1.47406\n",
      "Epoch: 0850 cost= 8.914183617 W= 0.495965 b= -1.47217\n",
      "Epoch: 0900 cost= 8.881364822 W= 0.483312 b= -1.4702\n",
      "Epoch: 0950 cost= 8.853365898 W= 0.471664 b= -1.46813\n",
      "Epoch: 1000 cost= 8.829439163 W= 0.460941 b= -1.46598\n",
      "Optimization Finished!\n",
      "Training cost= 8.82944 W= 0.460941 b= -1.46598 \n",
      "\n"
     ]
    },
    {
     "data": {
      "image/png": "[encoded data removed]",
      "text/plain": [
       "<matplotlib.figure.Figure at 0x7f3bd6fd64e0>"
      ]
     },
     "metadata": {},
     "output_type": "display_data"
    }
   ],
   "source": [
    "with tf.name_scope(\"Plotting\"):\n",
    "    n_samples = x_array.shape[0]\n",
    "    X = tf.placeholder(\"float\")\n",
    "    Y = tf.placeholder(\"float\")\n",
    "\n",
    "    # Set model weights\n",
    "    W = tf.Variable(rng.randn(), name=\"weight\")\n",
    "    b = tf.Variable(rng.randn(), name=\"bias\")\n",
    "\n",
    "    # Construct a linear model\n",
    "    pred = tf.add(tf.multiply(X, W), b)\n",
    "\n",
    "\n",
    "    # Mean squared error\n",
    "    cost = tf.reduce_sum(tf.pow(pred-Y, 2))/(2*n_samples)\n",
    "    # Gradient descent\n",
    "    optimizer = tf.train.GradientDescentOptimizer(learning_rate).minimize(cost)\n",
    "\n",
    "    # Initializing the variables\n",
    "    init = tf.global_variables_initializer()\n",
    "\n",
    "    # Launch the graph\n",
    "    with tf.Session() as sess:\n",
    "        sess.run(init)\n",
    "\n",
    "        # Fit all training data\n",
    "        for epoch in range(training_epochs):\n",
    "            for (p, r) in zip(x_array, y_array):\n",
    "                sess.run(optimizer, feed_dict={X: p, Y: r})\n",
    "\n",
    "            # Display logs per epoch step\n",
    "            if (epoch+1) % display_step == 0:\n",
    "                c = sess.run(cost, feed_dict={X: x_array, Y:y_array})\n",
    "                print(\"Epoch:\", '%04d' % (epoch+1), \"cost=\", \"{:.9f}\".format(c), \\\n",
    "                    \"W=\", sess.run(W), \"b=\", sess.run(b))\n",
    "\n",
    "        print(\"Optimization Finished!\")\n",
    "        training_cost = sess.run(cost, feed_dict={X: x_array, Y: y_array})\n",
    "        print(\"Training cost=\", training_cost, \"W=\", sess.run(W), \"b=\", sess.run(b), '\\n')\n",
    "\n",
    "        # Graphic display\n",
    "        plt.plot(x_array, y_array, 'ro', label='Original data')\n",
    "        plt.plot(x_array, sess.run(W) * x_array + sess.run(b), label='Fitted line')\n",
    "        plt.legend()\n",
    "        plt.show()\n"
   ]
  },
  {
   "cell_type": "code",
   "execution_count": 7,
   "metadata": {},
   "outputs": [
    {
     "name": "stdout",
     "output_type": "stream",
     "text": [
      "5.30626913189\n"
     ]
    }
   ],
   "source": [
    "with tf.name_scope(\"Finding_root_mean_square_error\"):\n",
    "    rms = tf.sqrt(tf.reduce_mean(tf.squared_difference(x_array, y_array,name = \"Finding_squared_difference\"),name=\"Finding_mean\"),name = \"Finding_square_root\")\n",
    "    with tf.Session() as sess:\n",
    "        rmse=sess.run(rms)\n",
    "        print(rmse)"
   ]
  },
  {
   "cell_type": "code",
   "execution_count": 8,
   "metadata": {},
   "outputs": [
    {
     "name": "stdout",
     "output_type": "stream",
     "text": [
      "0.268316\n"
     ]
    }
   ],
   "source": [
    "with tf.name_scope(\"Finding_theta_1\"): \n",
    "    y_var = tf.subtract(y,result_y,name = \"Subtract_y_array_with_y_mean\")\n",
    "    x_var = tf.subtract(x,m,name = \"Subtract_x_array_with_x_mean\")\n",
    "    mult = tf.multiply(x_var,y_var,name = \"Multiply_calculated_arrays\")\n",
    "    sumn = tf.reduce_sum(mult,name = \"Find_sum_of_x_i_minus_mean_x_and_y_i_minus_mean_y\")\n",
    "    x_var2 = tf.multiply(x_var,x_var,name = \"Squaring_found_arrray_values\")\n",
    "    sumd = tf.reduce_sum(x_var2,name = \"Find_sum_of_array_of_x_i_minus_mean_x\")\n",
    "    val = sumn/sumd\n",
    "\n",
    "    with tf.Session() as sess:\n",
    "        res = sess.run(val)\n",
    "        print(res)"
   ]
  },
  {
   "cell_type": "code",
   "execution_count": 9,
   "metadata": {},
   "outputs": [
    {
     "name": "stdout",
     "output_type": "stream",
     "text": [
      "-0.722596\n"
     ]
    }
   ],
   "source": [
    "with tf.name_scope(\"Finding_theta_0\"):    \n",
    "    temp = tf.multiply(res,m,name = \"Multiply_res_with_slope\")\n",
    "    theta = tf.subtract(result_y,temp,name=\"Sub_obtained_res_with_mean_y\")\n",
    "    with tf.Session() as sess:\n",
    "        theta0 = sess.run(theta)\n",
    "        print(theta0)"
   ]
  },
  {
   "cell_type": "code",
   "execution_count": null,
   "metadata": {
    "collapsed": true
   },
   "outputs": [],
   "source": []
  }
 ],
 "metadata": {
  "kernelspec": {
   "display_name": "Python 3",
   "language": "python",
   "name": "python3"
  },
  "language_info": {
   "codemirror_mode": {
    "name": "ipython",
    "version": 3
   },
   "file_extension": ".py",
   "mimetype": "text/x-python",
   "name": "python",
   "nbconvert_exporter": "python",
   "pygments_lexer": "ipython3",
   "version": "3.6.1"
  }
 },
 "nbformat": 4,
 "nbformat_minor": 2
}
